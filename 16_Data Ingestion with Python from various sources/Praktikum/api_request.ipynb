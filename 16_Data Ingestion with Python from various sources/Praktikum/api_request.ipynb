{
 "cells": [
  {
   "cell_type": "code",
   "execution_count": null,
   "metadata": {},
   "outputs": [],
   "source": [
    "import requests\n",
    "\n",
    "# URL API\n",
    "url = \"https://fakestoreapi.com/products\"\n",
    "\n",
    "# Mengambil data pengiriman dari API\n",
    "response = requests.get(url)\n",
    "\n",
    "# Ubah data ke dalam format JSON\n",
    "shipping_data = response.json()\n",
    "\n",
    "# Tampilkan contoh data\n",
    "print(\"\\nData Pengiriman:\")\n",
    "print(shipping_data[:5])  # Menampilkan lima data pertama\n"
   ]
  }
 ],
 "metadata": {
  "kernelspec": {
   "display_name": "Python 3",
   "language": "python",
   "name": "python3"
  },
  "language_info": {
   "codemirror_mode": {
    "name": "ipython",
    "version": 3
   },
   "file_extension": ".py",
   "mimetype": "text/x-python",
   "name": "python",
   "nbconvert_exporter": "python",
   "pygments_lexer": "ipython3",
   "version": "3.12.1"
  }
 },
 "nbformat": 4,
 "nbformat_minor": 2
}

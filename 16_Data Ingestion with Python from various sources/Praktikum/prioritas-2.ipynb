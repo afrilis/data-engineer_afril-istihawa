{
 "cells": [
  {
   "cell_type": "code",
   "execution_count": null,
   "metadata": {},
   "outputs": [],
   "source": [
    "import requests\n",
    "from bs4 import BeautifulSoup\n",
    "import csv\n",
    "\n",
    "# Fungsi untuk mengirim permintaan ke halaman produk\n",
    "def get_product_reviews(url):\n",
    "    headers = {\n",
    "        'User-Agent': 'Mozilla/5.0 (Windows NT 10.0; Win64; x64) AppleWebKit/537.36 (KHTML, like Gecko) Chrome/58.0.3029.110 Safari/537.3'}\n",
    "    response = requests.get(url, headers=headers)\n",
    "    if response.status_code == 200:\n",
    "        return response.content\n",
    "    else:\n",
    "        return None\n",
    "\n",
    "# Fungsi untuk mengekstrak data ulasan dari halaman\n",
    "def extract_reviews(html_content):\n",
    "    soup = BeautifulSoup(html_content, 'html.parser')\n",
    "    reviews = []\n",
    "    review_items = soup.find_all('div', class_='a-section review aok-relative')\n",
    "    for item in review_items:\n",
    "        rating = item.find('span', class_='a-icon-alt').text.split()[0]  # ambil bagian pertama dari teks rating\n",
    "        review_text = item.find('span', class_='review-text').text.strip()\n",
    "        review_date = item.find('span', class_='review-date').text.strip()\n",
    "        user_name = item.find('span', class_='a-profile-name').text.strip()\n",
    "        reviews.append({'Rating': rating, 'Review Text': review_text, 'Date': review_date, 'User': user_name})\n",
    "    return reviews\n",
    "\n",
    "# Fungsi untuk menyimpan data ulasan ke dalam file CSV\n",
    "def save_reviews_to_csv(reviews, filename='reviews.csv'):\n",
    "    with open(filename, 'w', newline='', encoding='utf-8') as csvfile:\n",
    "        fieldnames = ['Rating', 'Review Text', 'Date', 'User']\n",
    "        writer = csv.DictWriter(csvfile, fieldnames=fieldnames)\n",
    "        writer.writeheader()\n",
    "        for review in reviews:\n",
    "            writer.writerow(review)\n",
    "\n",
    "# URL produk yang akan di-scrape (dari URL yang baru)\n",
    "product_url = 'https://www.amazon.com/Folding-Camping-Detachable-Cushion-Portable/dp/B0BNVH4S7Y/ref=sr_1_4_sspa?crid=23DHX5F45P0W5&dib=eyJ2IjoiMSJ9.MuGyOctlwo76UsO2jtDx76GzKOoMVVyc-77sHgdg1ztNahutP-Nd3BwqmOxe0epLybKNFxgDdaclbzj4KBGH5qz6o4y05ug6844HfxS3Okwy_SmOTZhrqMdKrAbea5wsFfSwlRR6rS5dZM6jjrT6QqvKJXL2Wx9en02MMQKwPTFsPCrhmQCpXnWPs8O0C38Bl8c8bQhag53b7O9lsQHCDJbIG87Q6XBDCEz9Lg9elrwxD3ndbEuUzUbmL1ftekHx7EBs4_yfUHjvK-fpIrYZYgccZNvbmdNRtNP7yBujhtY.se_8sCO0EDiLDw_eWEkS08BcKxczulqrkkCvG_9avSQ&dib_tag=se&keywords=chair&qid=1713350630&sprefix=cha%2Caps%2C425&sr=8-4-spons&sp_csd=d2lkZ2V0TmFtZT1zcF9hdGY&th=1'\n",
    "\n",
    "# Mendapatkan konten HTML dari halaman produk\n",
    "html_content = get_product_reviews(product_url)\n",
    "\n",
    "if html_content:\n",
    "    # Mengekstrak ulasan dari konten HTML\n",
    "    reviews = extract_reviews(html_content)\n",
    "    \n",
    "    # Menyimpan ulasan ke dalam file CSV\n",
    "    save_reviews_to_csv(reviews, filename='amazon_reviews.csv')\n",
    "    print('Data ulasan telah disimpan dalam file amazon_reviews.csv.')\n",
    "else:\n",
    "    print('Gagal mengambil konten HTML dari halaman produk.')"
   ]
  },
  {
   "cell_type": "code",
   "execution_count": null,
   "metadata": {},
   "outputs": [],
   "source": [
    "pip install beautifulsoup4"
   ]
  }
 ],
 "metadata": {
  "kernelspec": {
   "display_name": "Python 3",
   "language": "python",
   "name": "python3"
  },
  "language_info": {
   "codemirror_mode": {
    "name": "ipython",
    "version": 3
   },
   "file_extension": ".py",
   "mimetype": "text/x-python",
   "name": "python",
   "nbconvert_exporter": "python",
   "pygments_lexer": "ipython3",
   "version": "3.12.1"
  }
 },
 "nbformat": 4,
 "nbformat_minor": 2
}

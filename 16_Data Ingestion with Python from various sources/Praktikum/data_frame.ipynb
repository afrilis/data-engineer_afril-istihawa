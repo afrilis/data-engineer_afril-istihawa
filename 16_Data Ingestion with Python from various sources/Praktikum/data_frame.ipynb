{
 "cells": [
  {
   "cell_type": "code",
   "execution_count": null,
   "metadata": {},
   "outputs": [],
   "source": [
    "import pandas as pd\n",
    "import pymysql\n",
    "import requests\n",
    "\n",
    "try:\n",
    "    # Load data from CSV file\n",
    "    csv_data = pd.read_csv('transactions.csv')\n",
    "\n",
    "    # Load data from Excel file\n",
    "    excel_data = pd.read_excel('products.xlsx')\n",
    "\n",
    "    # Connect to MySQL database\n",
    "    connection = pymysql.connect(\n",
    "        host='localhost',\n",
    "        user='root',\n",
    "        password='041172',\n",
    "        db='sentiment_chatgpt'\n",
    "    )\n",
    "\n",
    "    # Execute SQL query to get customer data\n",
    "    query = \"SELECT * FROM customers\"\n",
    "    customer_data = pd.read_sql(query, connection)\n",
    "\n",
    "    # Close the MySQL connection\n",
    "    connection.close()\n",
    "\n",
    "    # Get data from API\n",
    "    api_url = \"https://fakestoreapi.com/products\"\n",
    "    api_response = requests.get(api_url)\n",
    "    api_data = api_response.json()\n",
    "    api_df = pd.DataFrame(api_data)\n",
    "\n",
    "    # Combine all data into a single DataFrame\n",
    "    data = pd.concat([csv_data, excel_data, customer_data, api_df], ignore_index=True)\n",
    "\n",
    "    # Save the data to a parquet file\n",
    "    data.to_parquet('data.parquet')\n",
    "\n",
    "except Exception as e:\n",
    "    print(f\"An error occurred: {e}\")"
   ]
  },
  {
   "cell_type": "code",
   "execution_count": null,
   "metadata": {},
   "outputs": [],
   "source": [
    "pip install pyarrow"
   ]
  },
  {
   "cell_type": "code",
   "execution_count": null,
   "metadata": {},
   "outputs": [],
   "source": [
    "pip install fastparquet"
   ]
  }
 ],
 "metadata": {
  "kernelspec": {
   "display_name": "Python 3",
   "language": "python",
   "name": "python3"
  },
  "language_info": {
   "codemirror_mode": {
    "name": "ipython",
    "version": 3
   },
   "file_extension": ".py",
   "mimetype": "text/x-python",
   "name": "python",
   "nbconvert_exporter": "python",
   "pygments_lexer": "ipython3",
   "version": "3.12.1"
  }
 },
 "nbformat": 4,
 "nbformat_minor": 2
}

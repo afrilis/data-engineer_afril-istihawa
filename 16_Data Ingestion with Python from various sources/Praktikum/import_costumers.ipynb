{
 "cells": [
  {
   "cell_type": "code",
   "execution_count": null,
   "metadata": {},
   "outputs": [],
   "source": [
    "import pandas as pd\n",
    "import pymysql\n",
    "\n",
    "# Koneksi ke database MySQL\n",
    "connection = pymysql.connect(host='localhost',\n",
    "                             user='root',\n",
    "                             password='041172',\n",
    "                             database='sentiment_chatgpt')\n",
    "\n",
    "# Query untuk mengambil data pelanggan\n",
    "query = \"SELECT * FROM customers\"\n",
    "\n",
    "# Mengimpor data pelanggan ke dalam DataFrame\n",
    "customers_df = pd.read_sql(query, connection)\n",
    "\n",
    "# Menutup koneksi\n",
    "connection.close()\n",
    "\n",
    "# Tampilkan contoh data\n",
    "print(\"\\nData Pelanggan:\")\n",
    "print(customers_df.head())\n"
   ]
  }
 ],
 "metadata": {
  "kernelspec": {
   "display_name": "Python 3",
   "language": "python",
   "name": "python3"
  },
  "language_info": {
   "codemirror_mode": {
    "name": "ipython",
    "version": 3
   },
   "file_extension": ".py",
   "mimetype": "text/x-python",
   "name": "python",
   "nbconvert_exporter": "python",
   "pygments_lexer": "ipython3",
   "version": "3.12.1"
  }
 },
 "nbformat": 4,
 "nbformat_minor": 2
}

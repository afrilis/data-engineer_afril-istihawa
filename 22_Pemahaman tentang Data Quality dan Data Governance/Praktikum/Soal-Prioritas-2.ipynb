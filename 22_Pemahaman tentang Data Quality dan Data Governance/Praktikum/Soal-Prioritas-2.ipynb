{
 "cells": [
  {
   "cell_type": "code",
   "execution_count": 3,
   "metadata": {},
   "outputs": [
    {
     "name": "stdout",
     "output_type": "stream",
     "text": [
      "     transaction_id     customer_name transaction_amount    phone_number  \\\n",
      "0                 1         John Thor          Rp 54,000  +6281234564030   \n",
      "1                 2        Jane Smith          Rp 25,000  +6281234567891   \n",
      "3                 4       Emily Davis          Rp 32,000  +6281234567893   \n",
      "5                 6    Susan Anderson          Rp 61,000  +6281234567895   \n",
      "6                 7      Robert Clark          Rp 29,000  +6281234567896   \n",
      "..              ...               ...                ...             ...   \n",
      "113             114   Sharon Anderson          Rp 61,000  +6281234567823   \n",
      "114             115       David Davis          Rp 29,000  +6281234567824   \n",
      "115             116         Mary Hall          Rp 48,000  +6281234567825   \n",
      "117             118  Elizabeth Turner          Rp 54,000  +6281234567827   \n",
      "118             119      Robert Smith          Rp 25,000  +6281234567828   \n",
      "\n",
      "    transaction_type transaction_status  \n",
      "0         paket data            success  \n",
      "1              pulsa            success  \n",
      "3         paket data            success  \n",
      "5       voucher game            success  \n",
      "6              pulsa            success  \n",
      "..               ...                ...  \n",
      "113            pulsa            success  \n",
      "114          ewallet            success  \n",
      "115       paket data            success  \n",
      "117            pulsa            success  \n",
      "118     voucher game            success  \n",
      "\n",
      "[70 rows x 6 columns]\n"
     ]
    }
   ],
   "source": [
    "import pandas as pd\n",
    "\n",
    "# Membaca dataset transaksi\n",
    "df = pd.read_csv('tx_data.csv')\n",
    "\n",
    "# Mengubah format nomor telepon dengan awalan +62\n",
    "df['phone_number'] = '+62' + df['phone_number'].astype(str)\n",
    "\n",
    "# Mengonversi nilai kolom 'transaction_amount' ke format Rp 00.000\n",
    "df['transaction_amount'] = df['transaction_amount'].apply(lambda x: 'Rp {:,.0f}'.format(x))\n",
    "\n",
    "# Memfilter data transaksi dengan status success\n",
    "df = df[df['transaction_status'] == 'success']\n",
    "\n",
    "# Menyimpan hasil akhir data cleaning dalam DataFrame\n",
    "hasil_data_cleaning = df.copy()\n",
    "\n",
    "# Menampilkan hasil akhir data cleaning\n",
    "print(hasil_data_cleaning)\n"
   ]
  }
 ],
 "metadata": {
  "kernelspec": {
   "display_name": "Python 3",
   "language": "python",
   "name": "python3"
  },
  "language_info": {
   "codemirror_mode": {
    "name": "ipython",
    "version": 3
   },
   "file_extension": ".py",
   "mimetype": "text/x-python",
   "name": "python",
   "nbconvert_exporter": "python",
   "pygments_lexer": "ipython3",
   "version": "3.12.1"
  }
 },
 "nbformat": 4,
 "nbformat_minor": 2
}

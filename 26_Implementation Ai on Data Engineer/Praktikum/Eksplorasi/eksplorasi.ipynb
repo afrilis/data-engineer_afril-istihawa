{
 "cells": [
  {
   "cell_type": "code",
   "execution_count": 4,
   "metadata": {},
   "outputs": [],
   "source": [
    "from openai import OpenAI\n",
    "from dotenv import load_dotenv\n",
    "import os\n",
    "\n",
    "load_dotenv()\n",
    "\n",
    "\n",
    "ai_api = os.getenv(\"NAGA_AI_KEY\")\n",
    "client = OpenAI(\n",
    "    api_key= ai_api,\n",
    "    base_url='https://api.naga.ac/v1'\n",
    "    )\n",
    "\n",
    "def generate(prompt, model=\"gpt-3.5-turbo\", temperature=0, max_tokens=1000):\n",
    "    response = client.chat.completions.create(\n",
    "        model=model,\n",
    "        temperature=temperature,\n",
    "        max_tokens=max_tokens,\n",
    "        messages=[\n",
    "            {\n",
    "                \"role\": \"user\",\n",
    "                \"content\": prompt,\n",
    "            },\n",
    "        ],\n",
    "    )\n",
    "    return response.choices[0].message.content"
   ]
  },
  {
   "cell_type": "code",
   "execution_count": 6,
   "metadata": {},
   "outputs": [
    {
     "name": "stdout",
     "output_type": "stream",
     "text": [
      "Berdasarkan data penjualan harian Starbucks yang diberikan, kita dapat melihat bahwa kota dengan penjualan tertinggi adalah Seattle dengan $5500, sementara kota dengan penjualan terendah adalah Chicago dengan $4000. Ini menunjukkan bahwa Seattle adalah pasar yang sangat potensial bagi Starbucks, mungkin karena faktor-faktor seperti populasi yang tinggi, kepadatan penduduk yang tinggi, atau preferensi lokal terhadap merek tersebut.\n",
      "\n",
      "Selain itu, perbedaan dalam penjualan antara kota-kota juga dapat mencerminkan perbedaan dalam faktor-faktor seperti pendapatan per kapita, tingkat persaingan, atau strategi pemasaran yang digunakan oleh Starbucks di setiap wilayah.\n",
      "\n",
      "Prediksi berdasarkan data ini dapat mencakup peningkatan penjualan di kota-kota yang memiliki kinerja lebih rendah, seperti Chicago, dengan menerapkan strategi pemasaran yang lebih agresif atau menyesuaikan produk dengan preferensi lokal. Di sisi lain, di kota-kota dengan penjualan tinggi seperti Seattle, strategi pemeliharaan pelanggan dan inovasi produk dapat membantu mempertahankan atau meningkatkan pendapatan.\n"
     ]
    }
   ],
   "source": [
    "from openai import OpenAI\n",
    "from dotenv import load_dotenv\n",
    "import os\n",
    "\n",
    "load_dotenv()\n",
    "\n",
    "ai_api = os.getenv(\"NAGA_AI_KEY\")\n",
    "client = OpenAI(\n",
    "    api_key= ai_api,\n",
    "    base_url='https://api.naga.ac/v1'\n",
    "    )\n",
    "\n",
    "def generate_sales_insight(data, model=\"gpt-3.5-turbo\", temperature=0, max_tokens=1000):\n",
    "    prompt = f\"Data penjualan harian Starbucks:\\n\\n\"\n",
    "    for i in range(len(data[\"lokasi\"])):\n",
    "        prompt += f\"- {data['lokasi'][i]}: ${data['penjualan_harian'][i]}\\n\"\n",
    "    prompt += \"\\nBerikan insight atau prediksi tentang penjualan Starbucks berdasarkan data di atas.\"\n",
    "    \n",
    "    response = generate(prompt, model, temperature, max_tokens)\n",
    "    return response\n",
    "\n",
    "def generate(prompt, model=\"gpt-3.5-turbo\", temperature=0, max_tokens=1000):\n",
    "    response = client.chat.completions.create(\n",
    "        model=model,\n",
    "        temperature=temperature,\n",
    "        max_tokens=max_tokens,\n",
    "        messages=[\n",
    "            {\n",
    "                \"role\": \"user\",\n",
    "                \"content\": prompt,\n",
    "            },\n",
    "        ],\n",
    "    )\n",
    "    return response.choices[0].message.content\n",
    "\n",
    "# Data penjualan harian Starbucks\n",
    "starbucks_data = {\n",
    "    \"lokasi\": [\"New York\", \"Los Angeles\", \"Chicago\", \"San Francisco\", \"Seattle\"],\n",
    "    \"penjualan_harian\": [5000, 4500, 4000, 4800, 5500]  # dalam dolar\n",
    "}\n",
    "\n",
    "# Mendapatkan insight atau prediksi penjualan\n",
    "insight = generate_sales_insight(starbucks_data)\n",
    "print(insight)"
   ]
  }
 ],
 "metadata": {
  "kernelspec": {
   "display_name": "Python 3",
   "language": "python",
   "name": "python3"
  },
  "language_info": {
   "codemirror_mode": {
    "name": "ipython",
    "version": 3
   },
   "file_extension": ".py",
   "mimetype": "text/x-python",
   "name": "python",
   "nbconvert_exporter": "python",
   "pygments_lexer": "ipython3",
   "version": "3.12.1"
  }
 },
 "nbformat": 4,
 "nbformat_minor": 2
}

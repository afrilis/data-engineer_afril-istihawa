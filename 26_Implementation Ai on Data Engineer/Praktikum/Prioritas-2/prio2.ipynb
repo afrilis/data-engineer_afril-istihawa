{
 "cells": [
  {
   "cell_type": "code",
   "execution_count": 2,
   "metadata": {},
   "outputs": [],
   "source": [
    "from openai import OpenAI\n",
    "from dotenv import load_dotenv\n",
    "import os\n",
    "\n",
    "load_dotenv()\n",
    "\n",
    "\n",
    "ai_api = os.getenv(\"NAGA_AI_KEY\")\n",
    "client = OpenAI(\n",
    "    api_key= ai_api,\n",
    "    base_url='https://api.naga.ac/v1'\n",
    "    )\n",
    "\n",
    "def generate(prompt, model=\"gpt-3.5-turbo\", temperature=0, max_tokens=1000):\n",
    "    response = client.chat.completions.create(\n",
    "        model=model,\n",
    "        temperature=temperature,\n",
    "        max_tokens=max_tokens,\n",
    "        messages=[\n",
    "            {\n",
    "                \"role\": \"user\",\n",
    "                \"content\": prompt,\n",
    "            },\n",
    "        ],\n",
    "    )\n",
    "    return response.choices[0].message.content"
   ]
  },
  {
   "cell_type": "code",
   "execution_count": null,
   "metadata": {},
   "outputs": [],
   "source": [
    "from openai import OpenAI\n",
    "from dotenv import load_dotenv\n",
    "import os\n",
    "\n",
    "load_dotenv()\n",
    "\n",
    "ai_api = os.getenv(\"NAGA_AI_KEY\")\n",
    "client = OpenAI(\n",
    "    api_key=ai_api,\n",
    "    base_url='https://api.naga.ac/v1'\n",
    ")\n",
    "\n",
    "def generate_sql_query(prompt, model=\"gpt-3.5-turbo\", temperature=0.7, max_tokens=100):\n",
    "    try:\n",
    "        response = client.code_completions.create(\n",
    "            model=model,\n",
    "            temperature=temperature,\n",
    "            max_tokens=max_tokens,\n",
    "            prompt=prompt,\n",
    "            language=\"sql\"\n",
    "        )\n",
    "        return response.choices[0].text.strip()\n",
    "    except Exception as e:\n",
    "        print(\"An error occurred:\", e)\n",
    "        return None\n",
    "\n",
    "prompt = \"Buatkan SQL query untuk menghitung total penjualan per kategori produk setiap bulan.\"\n",
    "sql_query = generate_sql_query(prompt)\n",
    "print(sql_query)"
   ]
  }
 ],
 "metadata": {
  "kernelspec": {
   "display_name": "Python 3",
   "language": "python",
   "name": "python3"
  },
  "language_info": {
   "codemirror_mode": {
    "name": "ipython",
    "version": 3
   },
   "file_extension": ".py",
   "mimetype": "text/x-python",
   "name": "python",
   "nbconvert_exporter": "python",
   "pygments_lexer": "ipython3",
   "version": "3.12.1"
  }
 },
 "nbformat": 4,
 "nbformat_minor": 2
}
